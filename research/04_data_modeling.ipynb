{
 "cells": [
  {
   "cell_type": "code",
   "execution_count": 1,
   "metadata": {},
   "outputs": [],
   "source": [
    "import os"
   ]
  },
  {
   "cell_type": "code",
   "execution_count": 2,
   "metadata": {},
   "outputs": [
    {
     "data": {
      "text/plain": [
       "'c:\\\\Users\\\\PASCAL\\\\Student_Performance_Prediction\\\\research'"
      ]
     },
     "execution_count": 2,
     "metadata": {},
     "output_type": "execute_result"
    }
   ],
   "source": [
    "%pwd"
   ]
  },
  {
   "cell_type": "code",
   "execution_count": 3,
   "metadata": {},
   "outputs": [],
   "source": [
    "os.chdir(\"../\")"
   ]
  },
  {
   "cell_type": "code",
   "execution_count": 4,
   "metadata": {},
   "outputs": [],
   "source": [
    "from dataclasses import dataclass\n",
    "from pathlib import Path\n",
    "\n",
    "@dataclass(frozen=True)\n",
    "class ModelTrainerConfig:\n",
    "    root_dir: Path\n",
    "    data_path: Path\n",
    "    model_path: Path\n",
    "    "
   ]
  },
  {
   "cell_type": "code",
   "execution_count": 5,
   "metadata": {},
   "outputs": [],
   "source": [
    "from studentPerformance.constants import *\n",
    "from studentPerformance.utils.common import read_yaml, create_directories"
   ]
  },
  {
   "cell_type": "code",
   "execution_count": 6,
   "metadata": {},
   "outputs": [],
   "source": [
    "class ConfigurationManager:\n",
    "    def __init__(\n",
    "        self,\n",
    "        config_filepath = CONFIG_FILE_PATH,\n",
    "        params_filepath = PARAMS_FILE_PATH):\n",
    "\n",
    "        self.config = read_yaml(config_filepath)\n",
    "        self.params = read_yaml(params_filepath)\n",
    "\n",
    "        create_directories([self.config.artifacts_root])\n",
    "\n",
    "    \n",
    "\n",
    "    def get_model_trainer_config(self) -> ModelTrainerConfig:\n",
    "        config = self.config.model_trainer\n",
    "\n",
    "        create_directories([config.root_dir])\n",
    "\n",
    "        model_trainer_config = ModelTrainerConfig(\n",
    "        root_dir=config.root_dir,\n",
    "        data_path=config.data_path,\n",
    "        model_path=config.model_path\n",
    "    )\n",
    "\n",
    "        return model_trainer_config"
   ]
  },
  {
   "cell_type": "code",
   "execution_count": 7,
   "metadata": {},
   "outputs": [],
   "source": [
    "import os\n",
    "import sys\n",
    "from dataclasses import dataclass\n",
    "\n",
    "from catboost import CatBoostRegressor\n",
    "from sklearn.ensemble import (\n",
    "    AdaBoostRegressor,\n",
    "    GradientBoostingRegressor,\n",
    "    RandomForestRegressor,\n",
    ")\n",
    "from sklearn.linear_model import LinearRegression\n",
    "from sklearn.metrics import r2_score\n",
    "from sklearn.neighbors import KNeighborsRegressor\n",
    "from sklearn.tree import DecisionTreeRegressor\n",
    "from xgboost import XGBRegressor\n",
    "from src.studentPerformance.logger import logging\n",
    "from src.studentPerformance.utils.common import evaluate_models\n",
    "from src.studentPerformance.components.data_transformation import DataTransformation\n",
    "import pickle"
   ]
  },
  {
   "cell_type": "code",
   "execution_count": 8,
   "metadata": {},
   "outputs": [],
   "source": [
    "class ModelTrainer:\n",
    "    def __init__(self, config: ModelTrainerConfig):\n",
    "        self.config = config\n",
    "\n",
    "    def initiate_model_trainer(self, train_array, test_array):\n",
    "        try:\n",
    "            logging.info(\"Splitting training and test input data\")\n",
    "            X_train, y_train, X_test, y_test = (\n",
    "                train_array[:, :-1],\n",
    "                train_array[:, -1],\n",
    "                test_array[:, :-1],\n",
    "                test_array[:, -1]\n",
    "            )\n",
    "\n",
    "            models = {\n",
    "                \"Random Forest\": RandomForestRegressor(),\n",
    "                \"Decision Tree\": DecisionTreeRegressor(),\n",
    "                \"Gradient Boosting\": GradientBoostingRegressor(),\n",
    "                \"Linear Regression\": LinearRegression(),\n",
    "                \"XGBRegressor\": XGBRegressor(),\n",
    "                \"CatBoosting Regressor\": CatBoostRegressor(verbose=False),\n",
    "                \"AdaBoost Regressor\": AdaBoostRegressor(),\n",
    "            }\n",
    "\n",
    "            params = {\n",
    "                \"Decision Tree\": {\n",
    "                    'criterion': ['poisson', 'absolute_error', 'squared_error', 'friedman_mse'],\n",
    "                },\n",
    "                \"Random Forest\": {\n",
    "                    'n_estimators': [8, 16, 32, 64, 128, 256]\n",
    "                },\n",
    "                \"Gradient Boosting\": {\n",
    "                    'learning_rate': [0.1, 0.01, 0.05, 0.001],\n",
    "                    'subsample': [0.6, 0.7, 0.75, 0.8, 0.85, 0.9],\n",
    "                    'n_estimators': [8, 16, 32, 64, 128, 256]\n",
    "                },\n",
    "                \"Linear Regression\": {},\n",
    "                \"XGBRegressor\": {\n",
    "                    'learning_rate': [0.1, 0.01, 0.05, 0.001],\n",
    "                    'n_estimators': [8, 16, 32, 64, 128, 256]\n",
    "                },\n",
    "                \"CatBoosting Regressor\": {\n",
    "                    'depth': [6, 8, 10],\n",
    "                    'learning_rate': [0.01, 0.05, 0.1],\n",
    "                    'iterations': [30, 50, 100]\n",
    "                },\n",
    "                \"AdaBoost Regressor\": {\n",
    "                    'learning_rate': [0.1, 0.01, 0.5, 0.001],\n",
    "                    'n_estimators': [8, 16, 32, 64, 128, 256]\n",
    "                }\n",
    "            }\n",
    "\n",
    "            model_report = evaluate_models(X_train=X_train, y_train=y_train, X_test=X_test, y_test=y_test,\n",
    "                                           models=models, param=params)\n",
    "\n",
    "            best_model_score = max(sorted(model_report.values()))\n",
    "            best_model_name = list(model_report.keys())[\n",
    "                list(model_report.values()).index(best_model_score)\n",
    "            ]\n",
    "            best_model = models[best_model_name]\n",
    "\n",
    "            if best_model_score < 0.6:\n",
    "                raise Exception(\"No best model found\")\n",
    "\n",
    "            logging.info(\"Best found model on both training and testing dataset\")\n",
    "\n",
    "            output_dir = os.path.join(self.config.root_dir, \"artifacts/model_trainer\")\n",
    "            os.makedirs(output_dir, exist_ok=True)\n",
    "\n",
    "            output_file = os.path.join(output_dir, \"model.pkl\")\n",
    "            with open(output_file, \"wb\") as file:\n",
    "                pickle.dump(best_model, file)\n",
    "\n",
    "            predicted = best_model.predict(X_test)\n",
    "            r2_square = r2_score(y_test, predicted)\n",
    "            logging.info(\"Model Trainer completed and saved as a pickle file.\")\n",
    "            return r2_square\n",
    "\n",
    "        except Exception as e:\n",
    "            logging.error(f\"Error in initiate_model_trainer: {str(e)}\")\n"
   ]
  },
  {
   "cell_type": "code",
   "execution_count": 9,
   "metadata": {},
   "outputs": [
    {
     "name": "stdout",
     "output_type": "stream",
     "text": [
      "[2023-07-26 02:05:33,881: INFO: common: yaml file: config\\config.yaml loaded successfully]\n",
      "[2023-07-26 02:05:34,548: INFO: common: yaml file: params.yaml loaded successfully]\n",
      "[2023-07-26 02:05:34,549: INFO: common: created directory at: artifacts]\n",
      "[2023-07-26 02:05:34,551: INFO: common: created directory at: artifacts/model_trainer]\n",
      "[2023-07-26 02:05:34,552: INFO: data_transformation: Read train and test data completed]\n",
      "[2023-07-26 02:05:34,552: INFO: data_transformation: Obtaining preprocessing object]\n",
      "[2023-07-26 02:05:34,553: INFO: data_transformation: Categorical columns: ['gender', 'race_ethnicity', 'parental_level_of_education', 'lunch', 'test_preparation_course']]\n",
      "[2023-07-26 02:05:34,554: INFO: data_transformation: Numerical columns: ['reading_score', 'writing_score']]\n",
      "[2023-07-26 02:05:35,304: INFO: data_transformation: Applying preprocessing object on training dataframe and testing dataframe.]\n",
      "[2023-07-26 02:05:35,502: INFO: data_transformation: Saved preprocessing object.]\n",
      "[2023-07-26 02:05:35,503: INFO: data_transformation: Transformation of the data is completed]\n",
      "[2023-07-26 02:05:35,505: INFO: 4236550523: Splitting training and test input data]\n",
      "[2023-07-26 02:14:08,123: INFO: 4236550523: Best found model on both training and testing dataset]\n",
      "[2023-07-26 02:14:08,129: INFO: 4236550523: Model Trainer completed and saved as a pickle file.]\n"
     ]
    }
   ],
   "source": [
    "try:\n",
    "    config = ConfigurationManager()\n",
    "    model_trainer_config = config.get_model_trainer_config()\n",
    "    data_transformation = DataTransformation(model_trainer_config)\n",
    "    train_arr, test_arr, _ = data_transformation.initiate_data_transformation()\n",
    "\n",
    "    model_trainer = ModelTrainer(model_trainer_config)\n",
    "    model_trainer.initiate_model_trainer(train_arr, test_arr)\n",
    "except Exception as e:\n",
    "    raise e\n"
   ]
  },
  {
   "cell_type": "code",
   "execution_count": null,
   "metadata": {},
   "outputs": [],
   "source": []
  }
 ],
 "metadata": {
  "kernelspec": {
   "display_name": "stu",
   "language": "python",
   "name": "python3"
  },
  "language_info": {
   "codemirror_mode": {
    "name": "ipython",
    "version": 3
   },
   "file_extension": ".py",
   "mimetype": "text/x-python",
   "name": "python",
   "nbconvert_exporter": "python",
   "pygments_lexer": "ipython3",
   "version": "3.8.0"
  },
  "orig_nbformat": 4
 },
 "nbformat": 4,
 "nbformat_minor": 2
}
